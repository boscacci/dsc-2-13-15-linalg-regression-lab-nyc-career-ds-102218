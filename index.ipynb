{
 "cells": [
  {
   "cell_type": "markdown",
   "metadata": {},
   "source": [
    "# Regression with Linear Algebra - Lab\n",
    "\n",
    "## Introduction\n",
    "\n",
    "In this lab, we shall apply regression analysis using simple matrix manipulations to fit a model to given data, and then predict new values for previously unseen data. We shall follow the approach highlighted in previous lesson where we used numpy to build the appropriate matrices and vectors and solve for the $\\beta$ (unknown variables) vector. The beta vector will be used with test data to make new predictions. We shall also evaluate how good our model fit was. \n",
    "\n",
    "In order to make this experiment interesting. We shall use NumPy at every single stage of this experiment i.e. loading data, creating matrices, performing test train split, model fitting and evaluations.  \n",
    "\n",
    "## Objectives\n",
    "\n",
    "You will be able to:\n",
    "\n",
    "* Use linear algebra to apply simple regression modeling in Python and NumPy only\n",
    "* Apply train/test split using permutations in NumPy\n",
    "* Use matrix algebra with inverses and dot products to calculate the beta\n",
    "* Make predictions from the fitted model using previously unseen input features \n",
    "* Evaluate the fitted model by calculating the error between real and predicted values\n"
   ]
  },
  {
   "cell_type": "markdown",
   "metadata": {},
   "source": [
    "First let's import necessary libraries "
   ]
  },
  {
   "cell_type": "code",
   "execution_count": 2,
   "metadata": {},
   "outputs": [],
   "source": [
    "import csv # for reading csv file\n",
    "import numpy as np"
   ]
  },
  {
   "cell_type": "markdown",
   "metadata": {},
   "source": [
    "## Dataset \n",
    "\n",
    "The dataset we will use for this experiment is \"**Sales Prices in the City of Windsor, Canada**\", something very similar to the Boston Housing dataset. This dataset contains a number of input (independent) variables, including area, number of bedrooms/bathrooms, facilities(AC/garage) etc. and an output (dependent) variable, **price**. We shall formulate a linear algebra problem to find linear mappings from input to out features using the equation provided in the previous lesson. \n",
    "\n",
    "This will allow us to find a relationship between house features and house price for the given data, allowing us to find unknown prices for houses, given the input features.  \n",
    "\n",
    "A description of dataset and included features is available at [THIS LINK](https://rdrr.io/cran/Ecdat/man/Housing.html)\n",
    "\n",
    "In your repo, the dataset is available as `windsor_housing.csv` containing following variables:\n",
    "\n",
    "there are 11 input features (first 11 columns):\n",
    "\n",
    "\tlotsize\tbedrooms\tbathrms\tstories\tdriveway\trecroom\tfullbase\tgashw\tairco\tgaragepl\tprefarea\n",
    "\n",
    "and 1 output feature i.e. **price** (12th column). \n",
    "\n",
    "The focus of this lab is not really answering a preset analytical question, but to learn how we can perform a regression experiment, similar to one we performed in statsmodels, using mathematical manipulations. So we we wont be using any Pandas or statsmodels goodness here. The key objectives here are to a) understand regression with matrix algebra, and b) Mastery in NumPy scientific computation. "
   ]
  },
  {
   "cell_type": "markdown",
   "metadata": {},
   "source": [
    "## Stage 1: Prepare Data for Modeling \n",
    "\n",
    "Let's give you a head start by importing the dataset. We shall perform following steps to get the data ready for analysis:\n",
    "\n",
    "* Initialize an empty list `data` for loading data\n",
    "* Read the csv file containing complete (raw) `windsor_housing.csv`. [Use `csv.reader()` for loading data.](https://docs.python.org/3/library/csv.html). Store this in `data` one row at a time.\n",
    "\n",
    "* Drop the first row of csv file as it contains the names of variables (header) which won't be used during analysis (keeping this will cause errors as it contains text values).\n",
    "\n",
    "* Append a column of all 1s to the data (bias) as the first column\n",
    "\n",
    "* Convert `data` to a numpy array and inspect first few rows \n",
    "\n",
    "NOTE: `read.csv()` would read the csv as a text file, so we must convert the contents to float at some stage. "
   ]
  },
  {
   "cell_type": "code",
   "execution_count": 85,
   "metadata": {},
   "outputs": [
    {
     "data": {
      "text/plain": [
       "array([[     1,   5850,      3, ...,      1,      0,  42000],\n",
       "       [     1,   4000,      2, ...,      0,      0,  38500],\n",
       "       [     1,   3060,      3, ...,      0,      0,  49500],\n",
       "       ...,\n",
       "       [     1,   6000,      3, ...,      1,      0, 103000],\n",
       "       [     1,   6000,      3, ...,      1,      0, 105000],\n",
       "       [     1,   6000,      3, ...,      1,      0, 105000]])"
      ]
     },
     "execution_count": 85,
     "metadata": {},
     "output_type": "execute_result"
    }
   ],
   "source": [
    "# Your Code here\n",
    "data = []\n",
    "\n",
    "with open('windsor_housing.csv', newline='') as csvfile:\n",
    "    housereader = csv.reader(csvfile, delimiter=',', quotechar='|')\n",
    "    housereader.__next__()\n",
    "    for row in housereader:\n",
    "        for col in range(len(row)):\n",
    "            data.append(int(row[col]))\n",
    "            \n",
    "features = np.array(data).reshape(546,12)\n",
    "ones = np.full((546,1),1)\n",
    "\n",
    "df = np.concatenate((ones,features),1)\n",
    "df\n",
    "\n",
    "# First 5 rows of raw data \n",
    "\n",
    "# array([[1.00e+00, 5.85e+03, 3.00e+00, 1.00e+00, 2.00e+00, 1.00e+00,\n",
    "#         0.00e+00, 1.00e+00, 0.00e+00, 0.00e+00, 1.00e+00, 0.00e+00,\n",
    "#         4.20e+04],\n",
    "#        [1.00e+00, 4.00e+03, 2.00e+00, 1.00e+00, 1.00e+00, 1.00e+00,\n",
    "#         0.00e+00, 0.00e+00, 0.00e+00, 0.00e+00, 0.00e+00, 0.00e+00,\n",
    "#         3.85e+04]"
   ]
  },
  {
   "cell_type": "markdown",
   "metadata": {},
   "source": [
    "## Step 2: Perform a 80/20 test train Split\n",
    "\n",
    "Explore NumPy's official documentation to manually split a dataset using `numpy.random.shuffle()`,  `numpy.random.permutations()` or using simple resampling method. \n",
    "* Perform a **RANDOM** 80/20 split on data using a method of your choice , in NumPy using one of the methods above. \n",
    "* Create x_test, y_test, x_train and y_train arrays from the split data.\n",
    "* Inspect the contents to see if the split performed as expected. "
   ]
  },
  {
   "cell_type": "code",
   "execution_count": 148,
   "metadata": {},
   "outputs": [],
   "source": [
    "# Your code here \n",
    "\n",
    "np.random.shuffle(df)"
   ]
  },
  {
   "cell_type": "code",
   "execution_count": 149,
   "metadata": {},
   "outputs": [
    {
     "name": "stdout",
     "output_type": "stream",
     "text": [
      "(437, 13) (109, 13)\n"
     ]
    }
   ],
   "source": [
    "# Split results\n",
    "\n",
    "train = df[:437]\n",
    "test = df[437:]\n",
    "\n",
    "print(train.shape, test.shape)\n",
    "\n",
    "# Raw data Shape:  (546, 13)\n",
    "# Train/Test Split: (437, 13) (109, 13)"
   ]
  },
  {
   "cell_type": "code",
   "execution_count": 150,
   "metadata": {},
   "outputs": [
    {
     "data": {
      "text/plain": [
       "(array([[   1, 6000,    4, ...,    0,    2,    0],\n",
       "        [   1, 3630,    4, ...,    0,    3,    0],\n",
       "        [   1, 4046,    3, ...,    0,    1,    0],\n",
       "        ...,\n",
       "        [   1, 2550,    3, ...,    0,    0,    0],\n",
       "        [   1, 6000,    4, ...,    1,    1,    0],\n",
       "        [   1, 6600,    4, ...,    0,    0,    1]]),\n",
       " array([130000,  43000,  59500,  67900,  43500,  66000,  58000,  47000,\n",
       "         65000,  86000,  80000,  66000,  42900, 125000,  48000,  60000,\n",
       "         51000,  45000,  55000,  35500, 115442,  53000,  62600,  69000,\n",
       "         90000,  32500,  49000,  50000,  62000,  47900,  62900,  50500,\n",
       "         42000,  54000,  25000,  70000,  60500,  47000,  47000,  48000,\n",
       "         73000, 124000,  35000,  89900,  42300,  28000,  53900,  30000,\n",
       "         73000,  60000,  53900,  43000,  45000,  55000,  69500,  64000,\n",
       "         51000,  87000, 107500,  86900,  37900,  64500,  72000,  47500,\n",
       "         44500,  56000,  56000,  79000,  93000,  64500,  33500, 100000,\n",
       "         49900,  90000,  82900,  87250,  43000,  45000,  63000,  71500,\n",
       "         48000,  58500,  95500,  87500,  58500, 132000,  38000,  52000,\n",
       "         60000,  50000,  40750,  91700,  83900, 114900,  52500,  61000,\n",
       "         40500,  51500,  35000,  55000,  55000,  45000,  61000,  84000,\n",
       "         92000,  78000, 138300,  44500,  60000,  49500,  26000,  45000,\n",
       "         63900, 120000,  83900,  69000,  75000,  82000,  76900,  55500,\n",
       "         65000,  34400, 175000, 108000,  60000,  50000,  41000,  42000,\n",
       "         57500, 145000,  33000,  32000,  52900,  55000,  75000,  89000,\n",
       "         51000,  58500, 128000,  37000,  75000,  45000,  80000, 110000,\n",
       "         90000, 126500,  38000,  67000,  47000,  61000,  53900,  61000,\n",
       "        101000,  27000,  67000,  73500, 112500,  93000,  68000,  35000,\n",
       "        113750,  99000,  70800, 123500,  80750,  67000,  38000,  69000,\n",
       "         48000,  65900,  30000,  45000, 140000,  43000,  42000,  44900,\n",
       "         34000,  83000,  63000,  48500,  70100,  65500,  48000,  80000,\n",
       "         82000,  38000,  55000,  92500,  48900,  44000,  48000,  60000,\n",
       "         52500,  49500,  95000,  54000,  51500,  58000,  79500,  64000,\n",
       "         88000,  44500,  62500,  92000,  79500,  75000, 107000,  58550,\n",
       "         95000,  53000,  75000,  63900,  68000,  82500,  82000,  41000,\n",
       "         50000,  35000,  80000,  99000,  57500,  52000,  65000,  37900,\n",
       "         73000,  62000, 130000,  60000,  56000,  50000,  79000,  65000,\n",
       "         36000,  67000,  94500,  68500,  78500, 105000,  91500,  66000,\n",
       "         87000,  86900, 133000,  49500,  86000,  58000,  86000,  52000,\n",
       "         64500,  66000,  34000,  54500,  65000,  75000,  92500,  74700,\n",
       "         70000,  62000,  50000, 120000,  60000, 103500,  89000,  68500,\n",
       "         48000,  36000,  75500,  52000,  64000, 113000, 103000,  66000,\n",
       "         58000,  62000,  61000,  52000,  27000,  46000,  85000,  40000,\n",
       "         52500,  38000,  85000,  93000,  57000,  55000, 190000,  67000,\n",
       "         59900,  56000,  38000, 140000,  41000,  80000,  64500,  59900,\n",
       "        110000,  60000,  80000,  72000,  37000,  72500,  36000,  80000,\n",
       "        120000,  47000,  44000,  71000,  50000,  61500, 106000,  68100,\n",
       "        155000,  55500,  76000,  64000,  56000, 114000,  50000,  50000,\n",
       "         54000,  58900,  80000,  59500,  49000,  61000,  35000,  44100,\n",
       "        122000,  60000,  59000,  38500,  49000,  70000,  82000,  61700,\n",
       "         82000,  43000,  94700,  71900,  62900,  42000, 174500,  84000,\n",
       "         72000,  47000,  65500,  90000,  96500,  60000,  52900,  63900,\n",
       "         61500,  75000,  66500,  85000,  70000,  40500,  68000, 105000,\n",
       "         74500,  49000,  54800, 103000,  73000,  62900,  75000, 106500,\n",
       "         57000,  65000, 102000,  95000, 117000, 108000, 120000,  69900,\n",
       "        105000,  70000,  94000,  43000,  57250, 120900,  25000,  47000,\n",
       "         30500,  57500, 122500,  98500,  73500,  59500,  46000,  90000,\n",
       "         43000,  32500,  89500,  38000,  74900,  53000,  70000, 104900,\n",
       "         47500, 112000,  34000,  54000,  83800, 175000,  51900,  54000,\n",
       "         82000,  25245,  70000,  54000,  50000,  83000, 123500,  46500,\n",
       "         70000,  52000,  97000,  78000,  52000,  79000,  85000,  44700,\n",
       "         42000, 100500,  60000,  88500,  75000,  78500,  50000,  50000,\n",
       "         70000,  50000,  65000, 105000,  80000]))"
      ]
     },
     "execution_count": 150,
     "metadata": {},
     "output_type": "execute_result"
    }
   ],
   "source": [
    "x_train = train[:,:-1]\n",
    "y_train = train[:,-1]\n",
    "\n",
    "x_train, y_train\n",
    "# x_train, y_train, x_test, y_test: (437, 12) (437,) (109, 12) (109,)"
   ]
  },
  {
   "cell_type": "markdown",
   "metadata": {},
   "source": [
    "## Step 3: Calculate the `beta` \n",
    "\n",
    "With our X and y in place, We can now compute our beta values with x_train and y_train as:\n",
    "#### $\\beta$ = (x_train<sup>T</sup> . x_train)<sup>-1</sup> . x_train<sup>T</sup> . y_train \n",
    "\n",
    "* Using numpy operations (transpose, inverse) that we saw earlier, compute the above equation in steps.\n",
    "* Print your beta values"
   ]
  },
  {
   "cell_type": "code",
   "execution_count": 5,
   "metadata": {},
   "outputs": [
    {
     "name": "stdout",
     "output_type": "stream",
     "text": [
      "[7.13503312e+03 3.14678249e+00 3.28225971e+02 1.28839251e+04\n",
      " 6.68332755e+03 3.44682885e+03 3.19440776e+03 5.07824499e+03\n",
      " 1.32822228e+04 1.10098716e+04 2.88253206e+03 9.16916600e+03]\n"
     ]
    }
   ],
   "source": [
    "# Your code here \n",
    "\n",
    "\n",
    "\n",
    "# Calculated beta values\n",
    "\n",
    "# [-3.07118956e+03  2.13543921e+00  4.04283395e+03  1.33559881e+04\n",
    "#   5.75279185e+03  7.82810082e+03  3.73584043e+03  6.51098935e+03\n",
    "#   1.28802060e+04  1.09853850e+04  6.14947126e+03  1.05813305e+04]"
   ]
  },
  {
   "cell_type": "markdown",
   "metadata": {},
   "source": [
    "## Step 4: Make Predictions\n",
    "Great , we now have a set of coefficients that describe the linear mappings between X and y. We can now use the calculated beta values  with the test datasets that we left out to calculate y predictions. \n",
    "For this we need to perform the following tasks:"
   ]
  },
  {
   "cell_type": "markdown",
   "metadata": {},
   "source": [
    "Now we shall all features in each row in turn and multiply it with the beta computed above. The result will give a prediction for each row which we can append to a new array of predictions.\n",
    "\n",
    "#### $\\hat{y}$ = x.$\\beta$ = $\\beta$<sub>0</sub> + $\\beta$<sub>1</sub> . x<sub>1</sub> + $\\beta$<sub>2</sub> . x<sub>2</sub> + .. + $\\beta$<sub>m</sub> . x<sub>m</sub>\n",
    "\n",
    "\n",
    "* Create new empty list (y_pred) for saving predictions.\n",
    "* For each row of x_test, take the dot product of the row with beta to calculate the prediction for that row.\n",
    "* Append the predictions to y_pred.\n",
    "* Print the new set of predictions."
   ]
  },
  {
   "cell_type": "code",
   "execution_count": 3,
   "metadata": {},
   "outputs": [],
   "source": [
    "# Your code here "
   ]
  },
  {
   "cell_type": "markdown",
   "metadata": {},
   "source": [
    "## Step 5: Evaluate Model \n",
    "\n",
    "### Visualize Actual vs. Predicted\n",
    "This is exciting, so now our model can use the beta value to predict the price of houses given the input features. Let's plot these predictions against the actual values in y_test to see how much our model deviates. "
   ]
  },
  {
   "cell_type": "code",
   "execution_count": 5,
   "metadata": {},
   "outputs": [],
   "source": [
    "# Plot predicted and actual values as line plots\n"
   ]
  },
  {
   "cell_type": "markdown",
   "metadata": {},
   "source": [
    "![](diff.png)"
   ]
  },
  {
   "cell_type": "markdown",
   "metadata": {},
   "source": [
    "This doesn't look so bad, does it ? Our model, although isn't perfect at this stage, is making a good attempt to predict house prices although a few prediction seem a bit out. There could a number of reasons for this. Let's try to dig a bit deeper to check model's predictive abilities by comparing these prediction with actual values of y_test individually. That will help us calculate the RMSE value (Root Mean Squared Error) for our model. \n",
    "### Root Mean Squared Error\n",
    "Here is the formula for this again. \n",
    "\n",
    "![](rmse.jpg)\n"
   ]
  },
  {
   "cell_type": "markdown",
   "metadata": {},
   "source": [
    "* Initialize an empty array `err`.\n",
    "* for each row in y_test and y_pred, take the squared difference and append error for each row in err array. \n",
    "* Calculate RMSE from `err` using the formula shown above. "
   ]
  },
  {
   "cell_type": "code",
   "execution_count": 7,
   "metadata": {},
   "outputs": [],
   "source": [
    "# Calculate RMSE\n",
    "\n",
    "# Due to random split, your answers may vary \n",
    "\n",
    "# RMSE = 16401.913562758735"
   ]
  },
  {
   "cell_type": "markdown",
   "metadata": {},
   "source": [
    "### Normalized Root Mean Squared Error\n",
    "The above error is clearly in terms of the dependant variable i.e. the final house price. We can also use a normlized mean squared error in case of multiple regression which can be calculated from RMSE using following formula:\n",
    "\n",
    "* Calculate normalized Root Mean Squared Error"
   ]
  },
  {
   "cell_type": "markdown",
   "metadata": {},
   "source": [
    "<img src=\"nrmse.png\" width=300>"
   ]
  },
  {
   "cell_type": "code",
   "execution_count": 11,
   "metadata": {},
   "outputs": [
    {
     "data": {
      "text/plain": [
       "0.09940553674399233"
      ]
     },
     "execution_count": 11,
     "metadata": {},
     "output_type": "execute_result"
    }
   ],
   "source": [
    "# Calculate NRMSE\n",
    "\n",
    "# Due to random split, your answers may vary \n",
    "\n",
    "# 0.09940553674399233"
   ]
  },
  {
   "cell_type": "markdown",
   "metadata": {},
   "source": [
    "SO there it is. A complete multiple regression analysis using nothing but numpy. Having good programming skills in numpy would allow to dig deeper into analytical algorithms in machine learning and deep learning. Using matrix multiplication techniques we saw here, we can easily build a whole neural network from scratch. "
   ]
  },
  {
   "cell_type": "markdown",
   "metadata": {},
   "source": [
    "## Level up - Optional \n",
    "\n",
    "* Calculated the R_squared and adjusted R_squared for above experiment. \n",
    "* Plot the residuals (similar to statsmodels) and comment on the variance and heteroscedascticity. \n",
    "* Run the experiment in statsmodels and compare the performance of both approaches in terms of computational cost."
   ]
  },
  {
   "cell_type": "markdown",
   "metadata": {},
   "source": [
    "## Summary\n",
    "\n",
    "So there we have it. A predictive model for predicting house prices in a given dataset. Remember this is a very naive implementation of regression modeling. The purpose here was to get an introduction to the applications of linear algebra into machine learning and predictive analysis. We still have a number of shortcomings in our modeling approach and we can further apply a number of data modeling techniques to improve this model. "
   ]
  }
 ],
 "metadata": {
  "kernelspec": {
   "display_name": "Python 3",
   "language": "python",
   "name": "python3"
  },
  "language_info": {
   "codemirror_mode": {
    "name": "ipython",
    "version": 3
   },
   "file_extension": ".py",
   "mimetype": "text/x-python",
   "name": "python",
   "nbconvert_exporter": "python",
   "pygments_lexer": "ipython3",
   "version": "3.7.0"
  }
 },
 "nbformat": 4,
 "nbformat_minor": 2
}
